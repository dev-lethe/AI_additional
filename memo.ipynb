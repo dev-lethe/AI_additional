{
 "cells": [
  {
   "cell_type": "markdown",
   "id": "a0bf2f31",
   "metadata": {},
   "source": [
    "# 人工知能 csc.t272\n",
    "## プロジェクト課題\n",
    "### MNIST dataset をもちいた文字生成"
   ]
  },
  {
   "cell_type": "code",
   "execution_count": 7,
   "id": "5557a78b",
   "metadata": {},
   "outputs": [],
   "source": [
    "# パッケージのインポート\n",
    "import numpy as np\n",
    "import torch\n",
    "import torch.nn as nn\n",
    "import torchvision\n",
    "import torchvision.transforms as transforms\n",
    "import matplotlib.pyplot as plt\n",
    "from tqdm import tqdm"
   ]
  },
  {
   "cell_type": "code",
   "execution_count": null,
   "id": "75c58061",
   "metadata": {},
   "outputs": [],
   "source": [
    "# MNIST dataset の準備\n",
    "train_data = torchvision.datasets.MNIST(train=True)\n",
    "test_data = torchvision.datasets.MNIST(train=False)\n",
    "\n",
    "train_dataloader = torch.utils.data.DataLoader(train_data, batch_size=bs)\n",
    "test_dataloader = torch.utils.data.DataLoader(test_data, batch_size=bs)"
   ]
  },
  {
   "cell_type": "code",
   "execution_count": 11,
   "id": "b23778e8",
   "metadata": {},
   "outputs": [],
   "source": [
    "# model の作成\n",
    "# MNIST dataset; [28, 28]\n",
    "class MNIST_NN(nn.Module):\n",
    "    def __init__(\n",
    "            self,\n",
    "            layer_dim=256,\n",
    "    ):\n",
    "        super().__init__()\n",
    "        self.layer1 = nn.Linear(784, layer_dim)\n",
    "        self.layer2 = nn.Linear(layer_dim, layer_dim)\n",
    "        self.layer3 = nn.Linear(layer_dim, 10)\n",
    "        self.act = nn.ReLU()\n",
    "\n",
    "    def forward(self, input):\n",
    "        x = input.view(input.size(0), -1) \n",
    "        x = self.layer1(x)\n",
    "        x = self.act(x)\n",
    "        x = self.layer2(x)\n",
    "        x = self.act(x)\n",
    "        x = self.layer3(x)\n",
    "        return x"
   ]
  },
  {
   "cell_type": "code",
   "execution_count": 12,
   "id": "3cf4764e",
   "metadata": {},
   "outputs": [
    {
     "name": "stderr",
     "output_type": "stream",
     "text": [
      "epoch: 1 / 10: 100%|██████████| 938/938 [00:14<00:00, 62.68it/s, loss=0.0604]\n",
      "epoch: 1 / 10: 100%|██████████| 157/157 [00:01<00:00, 109.86it/s, loss=0.0358]\n",
      "epoch: 2 / 10: 100%|██████████| 938/938 [00:18<00:00, 50.96it/s, loss=0.0109]\n",
      "epoch: 2 / 10: 100%|██████████| 157/157 [00:01<00:00, 82.53it/s, loss=0.0054]\n",
      "epoch: 3 / 10: 100%|██████████| 938/938 [00:27<00:00, 34.53it/s, loss=0.0047]\n",
      "epoch: 3 / 10: 100%|██████████| 157/157 [00:02<00:00, 64.89it/s, loss=0.0043]\n",
      "epoch: 4 / 10: 100%|██████████| 938/938 [00:22<00:00, 41.32it/s, loss=0.0018]\n",
      "epoch: 4 / 10: 100%|██████████| 157/157 [00:01<00:00, 96.79it/s, loss=0.0051] \n",
      "epoch: 5 / 10: 100%|██████████| 938/938 [00:15<00:00, 60.51it/s, loss=0.0043]\n",
      "epoch: 5 / 10: 100%|██████████| 157/157 [00:01<00:00, 92.56it/s, loss=0.0004]\n",
      "epoch: 6 / 10: 100%|██████████| 938/938 [00:15<00:00, 59.02it/s, loss=0.0008]\n",
      "epoch: 6 / 10: 100%|██████████| 157/157 [00:01<00:00, 91.37it/s, loss=0.0006] \n",
      "epoch: 7 / 10: 100%|██████████| 938/938 [00:17<00:00, 53.15it/s, loss=0.0030]\n",
      "epoch: 7 / 10: 100%|██████████| 157/157 [00:02<00:00, 71.05it/s, loss=0.0004]\n",
      "epoch: 8 / 10: 100%|██████████| 938/938 [00:15<00:00, 61.49it/s, loss=0.0005]\n",
      "epoch: 8 / 10: 100%|██████████| 157/157 [00:02<00:00, 65.10it/s, loss=0.0000] \n",
      "epoch: 9 / 10: 100%|██████████| 938/938 [00:18<00:00, 50.77it/s, loss=0.0021]\n",
      "epoch: 9 / 10: 100%|██████████| 157/157 [00:01<00:00, 95.26it/s, loss=0.0000] \n",
      "epoch: 10 / 10: 100%|██████████| 938/938 [00:25<00:00, 36.54it/s, loss=0.0004]\n",
      "epoch: 10 / 10: 100%|██████████| 157/157 [00:02<00:00, 76.21it/s, loss=0.0000]\n"
     ]
    }
   ],
   "source": [
    "# main\n",
    "## model やdataset の定義\n",
    "model = MNIST_NN()\n",
    "\n",
    "bs = 64\n",
    "lr = 0.002\n",
    "epochs = 5\n",
    "\n",
    "criterion = nn.CrossEntropyLoss()\n",
    "optimizer = torch.optim.Adam(params=model.parameters(), lr=lr)\n",
    "\n",
    "train_data = torchvision.datasets.MNIST(root=\"~/AI/data/train\", train=True, download=True, transform=transforms.ToTensor())\n",
    "test_data = torchvision.datasets.MNIST(root=\"~/AI/data/test\", train=False, download=True, transform=transforms.ToTensor())\n",
    "\n",
    "train_dataloader = torch.utils.data.DataLoader(train_data, batch_size=bs)\n",
    "test_dataloader = torch.utils.data.DataLoader(test_data, batch_size=bs)\n",
    "\n",
    "## training\n",
    "\n",
    "for epoch in range(epochs):\n",
    "    model.train()\n",
    "\n",
    "    total_loss = 0\n",
    "    train_bar = tqdm(\n",
    "        enumerate(train_dataloader),\n",
    "        total=len(train_dataloader),\n",
    "        desc=f\"epoch: {epoch+1} / {epochs}\"\n",
    "    )\n",
    "\n",
    "    for batch, (img, lbl) in train_bar:\n",
    "        optimizer.zero_grad()\n",
    "        pred = model(img)\n",
    "        loss = criterion(pred, lbl)\n",
    "        loss.backward()\n",
    "        total_loss += loss.item()\n",
    "        optimizer.step()\n",
    "        train_bar.set_postfix(loss=f\"{loss.item():.4f}\")\n",
    "    \n",
    "    model.eval()\n",
    "    with torch.no_grad():\n",
    "        eval_bar = tqdm(\n",
    "            enumerate(test_dataloader),\n",
    "            total=len(test_dataloader),\n",
    "            desc=f\"epoch: {epoch+1} / {epochs}\"\n",
    "        )\n",
    "\n",
    "        for batch, (img, lbl) in eval_bar:\n",
    "            pred = model(img)\n",
    "            loss = criterion(pred, lbl)\n",
    "            eval_bar.set_postfix(loss=f\"{loss:.4f}\")"
   ]
  },
  {
   "cell_type": "code",
   "execution_count": null,
   "id": "e6be0f9b",
   "metadata": {},
   "outputs": [],
   "source": []
  }
 ],
 "metadata": {
  "kernelspec": {
   "display_name": "venv",
   "language": "python",
   "name": "python3"
  },
  "language_info": {
   "codemirror_mode": {
    "name": "ipython",
    "version": 3
   },
   "file_extension": ".py",
   "mimetype": "text/x-python",
   "name": "python",
   "nbconvert_exporter": "python",
   "pygments_lexer": "ipython3",
   "version": "3.12.3"
  }
 },
 "nbformat": 4,
 "nbformat_minor": 5
}
