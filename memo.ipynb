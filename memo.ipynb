{
 "cells": [
  {
   "cell_type": "markdown",
   "id": "a0bf2f31",
   "metadata": {},
   "source": [
    "# 人工知能 csc.t272\n",
    "## プロジェクト課題\n",
    "### MNIST dataset をもちいた文字生成"
   ]
  },
  {
   "cell_type": "code",
   "execution_count": 4,
   "id": "5557a78b",
   "metadata": {},
   "outputs": [],
   "source": [
    "# パッケージのインポート\n",
    "import numpy as np\n",
    "import torch\n",
    "import torch.nn as nn\n",
    "import torchvision\n",
    "import torchvision.transforms as transforms\n",
    "import matplotlib.pyplot as plt\n",
    "from tqdm import tqdm"
   ]
  },
  {
   "cell_type": "code",
   "execution_count": 5,
   "id": "b23778e8",
   "metadata": {},
   "outputs": [],
   "source": [
    "# model の作成\n",
    "# MNIST dataset; [28, 28]\n",
    "class MNIST_NN(nn.Module):\n",
    "    def __init__(\n",
    "            self,\n",
    "            layer_dim=256,\n",
    "    ):\n",
    "        super().__init__()\n",
    "        self.layer1 = nn.Linear(784, layer_dim)\n",
    "        self.layer2 = nn.Linear(layer_dim, layer_dim)\n",
    "        self.layer3 = nn.Linear(layer_dim, 10)\n",
    "        self.act = nn.ReLU()\n",
    "\n",
    "    def forward(self, input):\n",
    "        x = input.view(input.size(0), -1) \n",
    "        x = self.layer1(x)\n",
    "        x = self.act(x)\n",
    "        x = self.layer2(x)\n",
    "        x = self.act(x)\n",
    "        x = self.layer3(x)\n",
    "        return x"
   ]
  },
  {
   "cell_type": "code",
   "execution_count": null,
   "id": "3cf4764e",
   "metadata": {},
   "outputs": [
    {
     "name": "stderr",
     "output_type": "stream",
     "text": [
      "epoch: 1 / 5:   0%|          | 0/938 [00:00<?, ?it/s]\n"
     ]
    },
    {
     "ename": "NameError",
     "evalue": "name 'loss' is not defined",
     "output_type": "error",
     "traceback": [
      "\u001b[31m---------------------------------------------------------------------------\u001b[39m",
      "\u001b[31mNameError\u001b[39m                                 Traceback (most recent call last)",
      "\u001b[36mCell\u001b[39m\u001b[36m \u001b[39m\u001b[32mIn[6]\u001b[39m\u001b[32m, line 34\u001b[39m\n\u001b[32m     32\u001b[39m pred = model(img)\n\u001b[32m     33\u001b[39m \u001b[38;5;66;03m#loss = criterion(pred, lbl)\u001b[39;00m\n\u001b[32m---> \u001b[39m\u001b[32m34\u001b[39m \u001b[43mloss\u001b[49m.backward()\n\u001b[32m     35\u001b[39m total_loss += loss.item()\n\u001b[32m     36\u001b[39m optimizer.step()\n",
      "\u001b[31mNameError\u001b[39m: name 'loss' is not defined"
     ]
    }
   ],
   "source": [
    "# main\n",
    "## model やdataset の定義\n",
    "model = MNIST_NN()\n",
    "\n",
    "bs = 64\n",
    "lr = 0.002\n",
    "epochs = 5\n",
    "\n",
    "criterion = nn.CrossEntropyLoss()\n",
    "optimizer = torch.optim.Adam(params=model.parameters(), lr=lr)\n",
    "\n",
    "train_data = torchvision.datasets.MNIST(root=\"~/AI/data/train\", train=True, download=True, transform=transforms.ToTensor())\n",
    "test_data = torchvision.datasets.MNIST(root=\"~/AI/data/test\", train=False, download=True, transform=transforms.ToTensor())\n",
    "\n",
    "train_dataloader = torch.utils.data.DataLoader(train_data, batch_size=bs)\n",
    "test_dataloader = torch.utils.data.DataLoader(test_data, batch_size=bs)\n",
    "\n",
    "## training\n",
    "\n",
    "for epoch in range(epochs):\n",
    "    model.train()\n",
    "\n",
    "    total_loss = 0\n",
    "    train_bar = tqdm(\n",
    "        enumerate(train_dataloader),\n",
    "        total=len(train_dataloader),\n",
    "        desc=f\"epoch: {epoch+1} / {epochs}\"\n",
    "    )\n",
    "\n",
    "    for batch, (img, lbl) in train_bar:\n",
    "        optimizer.zero_grad()\n",
    "        pred = model(img)\n",
    "        loss = criterion(pred, lbl)\n",
    "        loss.backward()\n",
    "        total_loss += loss.item()\n",
    "        optimizer.step()\n",
    "        train_bar.set_postfix(loss=f\"{loss.item():.4f}\")\n",
    "    \n",
    "    model.eval()\n",
    "    with torch.no_grad():\n",
    "        eval_bar = tqdm(\n",
    "            enumerate(test_dataloader),\n",
    "            total=len(test_dataloader),\n",
    "            desc=f\"epoch: {epoch+1} / {epochs}\"\n",
    "        )\n",
    "\n",
    "        for batch, (img, lbl) in eval_bar:\n",
    "            pred = model(img)\n",
    "            loss = criterion(pred, lbl)\n",
    "            eval_bar.set_postfix(loss=f\"{loss:.4f}\")"
   ]
  },
  {
   "cell_type": "code",
   "execution_count": 8,
   "id": "e6be0f9b",
   "metadata": {},
   "outputs": [
    {
     "ename": "AttributeError",
     "evalue": "'collections.OrderedDict' object has no attribute 'eval'",
     "output_type": "error",
     "traceback": [
      "\u001b[31m---------------------------------------------------------------------------\u001b[39m",
      "\u001b[31mAttributeError\u001b[39m                            Traceback (most recent call last)",
      "\u001b[36mCell\u001b[39m\u001b[36m \u001b[39m\u001b[32mIn[8]\u001b[39m\u001b[32m, line 2\u001b[39m\n\u001b[32m      1\u001b[39m \u001b[38;5;28;01mfrom\u001b[39;00m\u001b[38;5;250m \u001b[39m\u001b[34;01mtrain\u001b[39;00m\u001b[38;5;250m \u001b[39m\u001b[38;5;28;01mimport\u001b[39;00m training, evaluation\n\u001b[32m----> \u001b[39m\u001b[32m2\u001b[39m acc = \u001b[43mevaluation\u001b[49m\u001b[43m(\u001b[49m\n\u001b[32m      3\u001b[39m \u001b[43m    \u001b[49m\u001b[43mmodel\u001b[49m\u001b[43m=\u001b[49m\u001b[43mmodel\u001b[49m\u001b[43m,\u001b[49m\n\u001b[32m      4\u001b[39m \u001b[43m    \u001b[49m\u001b[43mdataloader\u001b[49m\u001b[43m=\u001b[49m\u001b[43mtest_dataloader\u001b[49m\u001b[43m,\u001b[49m\n\u001b[32m      5\u001b[39m \u001b[43m    \u001b[49m\u001b[43mload\u001b[49m\u001b[43m=\u001b[49m\u001b[38;5;28;43;01mTrue\u001b[39;49;00m\n\u001b[32m      6\u001b[39m \u001b[43m)\u001b[49m\n\u001b[32m      7\u001b[39m \u001b[38;5;28mprint\u001b[39m(\u001b[33mf\u001b[39m\u001b[33m\"\u001b[39m\u001b[33maccuracy: \u001b[39m\u001b[38;5;132;01m{\u001b[39;00macc\u001b[38;5;132;01m}\u001b[39;00m\u001b[33m\"\u001b[39m)\n",
      "\u001b[36mFile \u001b[39m\u001b[32m~/AI/train.py:68\u001b[39m, in \u001b[36mevaluation\u001b[39m\u001b[34m(model, dataloader, load)\u001b[39m\n\u001b[32m     66\u001b[39m     ckpt = torch.load(\u001b[33m\"\u001b[39m\u001b[33m/home/lethe/AI/data/model.pt\u001b[39m\u001b[33m\"\u001b[39m)\n\u001b[32m     67\u001b[39m     model = ckpt[\u001b[33m\"\u001b[39m\u001b[33mmodel\u001b[39m\u001b[33m\"\u001b[39m]\n\u001b[32m---> \u001b[39m\u001b[32m68\u001b[39m \u001b[43mmodel\u001b[49m\u001b[43m.\u001b[49m\u001b[43meval\u001b[49m()\n\u001b[32m     70\u001b[39m \u001b[38;5;28;01mwith\u001b[39;00m torch.no_grad():\n\u001b[32m     71\u001b[39m     progress_bar = tqdm(\n\u001b[32m     72\u001b[39m         \u001b[38;5;28menumerate\u001b[39m(dataloader),\n\u001b[32m     73\u001b[39m         total=\u001b[38;5;28mlen\u001b[39m(dataloader),\n\u001b[32m     74\u001b[39m         desc=\u001b[33m\"\u001b[39m\u001b[33mevaluating\u001b[39m\u001b[33m\"\u001b[39m\n\u001b[32m     75\u001b[39m     )\n",
      "\u001b[31mAttributeError\u001b[39m: 'collections.OrderedDict' object has no attribute 'eval'"
     ]
    }
   ],
   "source": [
    "from train import training, evaluation\n",
    "acc = evaluation(\n",
    "    model=model,\n",
    "    dataloader=test_dataloader,\n",
    "    load=True\n",
    ")\n",
    "print(f\"accuracy: {acc}\")"
   ]
  },
  {
   "cell_type": "code",
   "execution_count": 1,
   "id": "6236e9de",
   "metadata": {},
   "outputs": [
    {
     "name": "stderr",
     "output_type": "stream",
     "text": [
      "evaluating: 100%|██████████| 157/157 [00:01<00:00, 150.03it/s]"
     ]
    },
    {
     "name": "stdout",
     "output_type": "stream",
     "text": [
      "accuracy: 97.8\n"
     ]
    },
    {
     "name": "stderr",
     "output_type": "stream",
     "text": [
      "\n"
     ]
    }
   ],
   "source": [
    "# main.py @06/23\n",
    "import torch\n",
    "import torch.nn as nn\n",
    "import torchvision\n",
    "import torchvision.transforms as transforms\n",
    "from tqdm import tqdm\n",
    "\n",
    "from model import MNIST_NN\n",
    "from train import training, evaluation\n",
    "\n",
    "if __name__ == \"__main__\":\n",
    "    # hyper parameters\n",
    "    bs = 64\n",
    "    lr = 0.002\n",
    "    epochs = 5\n",
    "\n",
    "    # dataset\n",
    "    train_data = torchvision.datasets.MNIST(root=\"/home/lethe/AI/data/train\", train=True, transform=transforms.ToTensor())\n",
    "    test_data = torchvision.datasets.MNIST(root=\"/home/lethe/AI/data/test\", train=False, transform=transforms.ToTensor())\n",
    "    train_dataloader = torch.utils.data.DataLoader(train_data, batch_size=bs)\n",
    "    test_dataloader = torch.utils.data.DataLoader(test_data, batch_size=bs)\n",
    "\n",
    "    # model\n",
    "    model = MNIST_NN()\n",
    "    \n",
    "    # train\n",
    "    \"\"\"\n",
    "    training(\n",
    "        model=model,\n",
    "        dataloader=train_dataloader,\n",
    "        lr=lr,\n",
    "        epochs=epochs,\n",
    "        save=True\n",
    "    )\n",
    "    \"\"\"\n",
    "    acc = evaluation(\n",
    "        model=model,\n",
    "        dataloader=test_dataloader,\n",
    "        load=True\n",
    "    )\n",
    "    print(f\"accuracy: {acc}\")"
   ]
  },
  {
   "cell_type": "code",
   "execution_count": 13,
   "id": "3836abbb",
   "metadata": {},
   "outputs": [
    {
     "data": {
      "image/png": "[encoded data removed]",
      "text/plain": [
       "<Figure size 640x480 with 1 Axes>"
      ]
     },
     "metadata": {},
     "output_type": "display_data"
    },
    {
     "name": "stdout",
     "output_type": "stream",
     "text": [
      "tensor([[ -0.3905,  -9.2070,  -1.3290,   0.4764, -16.7787,   4.2293,  -3.2679,\n",
      "          -5.0778,  -1.9082, -11.2124]], grad_fn=<AddmmBackward0>)\n"
     ]
    },
    {
     "name": "stderr",
     "output_type": "stream",
     "text": [
      "100%|██████████| 10000/10000 [00:09<00:00, 1040.04it/s]\n"
     ]
    },
    {
     "name": "stdout",
     "output_type": "stream",
     "text": [
      "tensor([[-17.2369,  -7.6242,   1.6770,  15.0829, -23.5632,   1.1575, -27.6214,\n",
      "          -7.8078,  -3.9516, -12.5507]], grad_fn=<AddmmBackward0>)\n"
     ]
    },
    {
     "data": {
      "image/png": "[encoded data removed]",
      "text/plain": [
       "<Figure size 640x480 with 1 Axes>"
      ]
     },
     "metadata": {},
     "output_type": "display_data"
    }
   ],
   "source": [
    "# generations\n",
    "import torch\n",
    "import torch.nn as nn\n",
    "import torchvision\n",
    "import torchvision.transforms as transforms\n",
    "from tqdm import tqdm\n",
    "import matplotlib.pyplot as plt\n",
    "\n",
    "from model import MNIST_NN\n",
    "\n",
    "target = int(input(\"input number: \"))\n",
    "label = torch.tensor([target])\n",
    "img_tensor = torch.rand(1, 784, requires_grad=True)\n",
    "lr = 0.001\n",
    "nums = 10000\n",
    "\n",
    "img = img_tensor.detach().view(28, 28)\n",
    "plt.imshow(img, cmap='gray')\n",
    "plt.axis('off')\n",
    "plt.show()\n",
    "\n",
    "\n",
    "optimizer = torch.optim.Adam([img_tensor], lr=lr)\n",
    "criterion = nn.CrossEntropyLoss()\n",
    "\n",
    "model = MNIST_NN()\n",
    "ckpt = torch.load(\"/home/lethe/AI/data/model.pt\")\n",
    "model.load_state_dict(ckpt[\"model\"])\n",
    "model.eval()\n",
    "\n",
    "pred = model(img_tensor)\n",
    "print(pred)\n",
    "\n",
    "for i in tqdm(range(nums)):\n",
    "    optimizer.zero_grad()\n",
    "    output = model(img_tensor)\n",
    "    loss = criterion(output, label)\n",
    "    loss.backward()\n",
    "    optimizer.step()\n",
    "\n",
    "pred = model(img_tensor)\n",
    "print(pred)\n",
    "\n",
    "img = img_tensor.detach().view(28, 28)\n",
    "plt.imshow(img, cmap='gray')\n",
    "plt.axis('off')\n",
    "plt.show()\n",
    "\n",
    "\n"
   ]
  },
  {
   "cell_type": "code",
   "execution_count": null,
   "id": "ab361df5",
   "metadata": {},
   "outputs": [],
   "source": []
  }
 ],
 "metadata": {
  "kernelspec": {
   "display_name": "venv",
   "language": "python",
   "name": "python3"
  },
  "language_info": {
   "codemirror_mode": {
    "name": "ipython",
    "version": 3
   },
   "file_extension": ".py",
   "mimetype": "text/x-python",
   "name": "python",
   "nbconvert_exporter": "python",
   "pygments_lexer": "ipython3",
   "version": "3.12.3"
  }
 },
 "nbformat": 4,
 "nbformat_minor": 5
}
