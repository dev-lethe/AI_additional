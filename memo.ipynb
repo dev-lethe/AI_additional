{
 "cells": [
  {
   "cell_type": "markdown",
   "id": "a0bf2f31",
   "metadata": {},
   "source": [
    "# 人工知能 csc.t272\n",
    "## プロジェクト課題\n",
    "### MNIST dataset をもちいた文字生成"
   ]
  },
  {
   "cell_type": "code",
   "execution_count": null,
   "id": "5557a78b",
   "metadata": {},
   "outputs": [],
   "source": [
    "# パッケージのインポート\n",
    "import numpy as np\n",
    "import torch\n",
    "import torch.nn as nn\n",
    "import torchvision\n",
    "import matplotlib.pyplot as plt"
   ]
  },
  {
   "cell_type": "code",
   "execution_count": null,
   "id": "75c58061",
   "metadata": {},
   "outputs": [],
   "source": [
    "# MNIST dataset の準備\n",
    "train_data = torchvision.datasets.MNIST(train=True)\n",
    "test_data = torchvision.datasets.MNIST(train=False)\n",
    "\n",
    "train = torch.utils.data.DataLoader(train_data, batch_size=bs)\n",
    "test = torch.utils.data.DataLoader(test_data, batch_size=bs)"
   ]
  },
  {
   "cell_type": "code",
   "execution_count": null,
   "id": "b23778e8",
   "metadata": {},
   "outputs": [],
   "source": [
    "# model の作成\n",
    "# MNIST dataset; [28, 28]\n",
    "class MNIST_NN(nn.Module):\n",
    "    def __init__(\n",
    "            self,\n",
    "            layer_dim=1024,\n",
    "    ):\n",
    "        super().__init__()\n",
    "        self.layer1 = nn.Linear(784, layer_dim)\n",
    "        self.layer2 = nn.Linear(layer_dim, layer_dim)\n",
    "        self.layer3 = nn.Linear(layer_dim, 10)\n",
    "        self.act = nn.ReLU()\n",
    "\n",
    "    def forward(self, input):\n",
    "        x = input.reshape([784, 1])\n",
    "        x = self.layer1(x)\n",
    "        x = self.act(x)\n",
    "        x = self.layer2(x)\n",
    "        x = self.act(x)\n",
    "        x = self.layer3(x)\n",
    "        pred = nn.Softmax(x)\n",
    "        return pred\n",
    "\n",
    "\n",
    "\n"
   ]
  },
  {
   "cell_type": "code",
   "execution_count": null,
   "id": "3cf4764e",
   "metadata": {},
   "outputs": [],
   "source": [
    "# 学習\n",
    "model = MNIST_NN()\n",
    "bs = 4\n",
    "criterion = nn.CrossEntropyLoss()\n",
    "optimizer = torch.optim.Adam(params=model.parameters())"
   ]
  }
 ],
 "metadata": {
  "kernelspec": {
   "display_name": "venv",
   "language": "python",
   "name": "python3"
  },
  "language_info": {
   "name": "python",
   "version": "3.12.3"
  }
 },
 "nbformat": 4,
 "nbformat_minor": 5
}
